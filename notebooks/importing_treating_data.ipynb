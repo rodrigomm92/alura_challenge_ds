{
 "cells": [
  {
   "cell_type": "markdown",
   "id": "adc4a43b",
   "metadata": {},
   "source": [
    "# 1 IMPORTS"
   ]
  },
  {
   "cell_type": "code",
   "execution_count": 2,
   "id": "b462eaa8",
   "metadata": {
    "ExecuteTime": {
     "end_time": "2022-05-10T15:53:06.232211Z",
     "start_time": "2022-05-10T15:53:05.718079Z"
    }
   },
   "outputs": [],
   "source": [
    "import pandas as pd\n",
    "import inflection"
   ]
  },
  {
   "cell_type": "markdown",
   "id": "b120e507",
   "metadata": {},
   "source": [
    "## 1.1 Definitions "
   ]
  },
  {
   "cell_type": "markdown",
   "id": "0de6daf1",
   "metadata": {},
   "source": [
    "## 1.2 Loading Data"
   ]
  },
  {
   "cell_type": "code",
   "execution_count": 3,
   "id": "1aa1b0e8",
   "metadata": {
    "ExecuteTime": {
     "end_time": "2022-05-10T15:53:08.809657Z",
     "start_time": "2022-05-10T15:53:06.233212Z"
    }
   },
   "outputs": [],
   "source": [
    "# coletando os dados e salvando localmente\n",
    "url = 'https://raw.githubusercontent.com/sthemonica/alura-voz/main/Dados/Telco-Customer-Churn.json'\n",
    "df_raw = pd.read_json(url)\n",
    "df_raw.to_json('../data/customers.json')\n"
   ]
  },
  {
   "cell_type": "markdown",
   "id": "9662a858",
   "metadata": {},
   "source": [
    "# 2 DATA DESCRIPTION"
   ]
  },
  {
   "cell_type": "markdown",
   "id": "ed4d4794",
   "metadata": {},
   "source": [
    "## 2.1 Data Preview"
   ]
  },
  {
   "cell_type": "markdown",
   "id": "9ce49983",
   "metadata": {},
   "source": [
    "Após a importação dos dados, verificamos que há informações aninhadas em formato json. Portanto, para acessar esses dados e termos o nosso dataframe definitivo, utilizaremos ferramentas que serão mostradas nas próximas sessões."
   ]
  },
  {
   "cell_type": "code",
   "execution_count": 4,
   "id": "58a0b46c",
   "metadata": {
    "ExecuteTime": {
     "end_time": "2022-05-10T15:53:08.841664Z",
     "start_time": "2022-05-10T15:53:08.810657Z"
    }
   },
   "outputs": [
    {
     "data": {
      "text/html": [
       "<div>\n",
       "<style scoped>\n",
       "    .dataframe tbody tr th:only-of-type {\n",
       "        vertical-align: middle;\n",
       "    }\n",
       "\n",
       "    .dataframe tbody tr th {\n",
       "        vertical-align: top;\n",
       "    }\n",
       "\n",
       "    .dataframe thead th {\n",
       "        text-align: right;\n",
       "    }\n",
       "</style>\n",
       "<table border=\"1\" class=\"dataframe\">\n",
       "  <thead>\n",
       "    <tr style=\"text-align: right;\">\n",
       "      <th></th>\n",
       "      <th>customerID</th>\n",
       "      <th>Churn</th>\n",
       "      <th>customer</th>\n",
       "      <th>phone</th>\n",
       "      <th>internet</th>\n",
       "      <th>account</th>\n",
       "    </tr>\n",
       "  </thead>\n",
       "  <tbody>\n",
       "    <tr>\n",
       "      <th>0</th>\n",
       "      <td>0002-ORFBO</td>\n",
       "      <td>No</td>\n",
       "      <td>{'gender': 'Female', 'SeniorCitizen': 0, 'Part...</td>\n",
       "      <td>{'PhoneService': 'Yes', 'MultipleLines': 'No'}</td>\n",
       "      <td>{'InternetService': 'DSL', 'OnlineSecurity': '...</td>\n",
       "      <td>{'Contract': 'One year', 'PaperlessBilling': '...</td>\n",
       "    </tr>\n",
       "    <tr>\n",
       "      <th>1</th>\n",
       "      <td>0003-MKNFE</td>\n",
       "      <td>No</td>\n",
       "      <td>{'gender': 'Male', 'SeniorCitizen': 0, 'Partne...</td>\n",
       "      <td>{'PhoneService': 'Yes', 'MultipleLines': 'Yes'}</td>\n",
       "      <td>{'InternetService': 'DSL', 'OnlineSecurity': '...</td>\n",
       "      <td>{'Contract': 'Month-to-month', 'PaperlessBilli...</td>\n",
       "    </tr>\n",
       "    <tr>\n",
       "      <th>2</th>\n",
       "      <td>0004-TLHLJ</td>\n",
       "      <td>Yes</td>\n",
       "      <td>{'gender': 'Male', 'SeniorCitizen': 0, 'Partne...</td>\n",
       "      <td>{'PhoneService': 'Yes', 'MultipleLines': 'No'}</td>\n",
       "      <td>{'InternetService': 'Fiber optic', 'OnlineSecu...</td>\n",
       "      <td>{'Contract': 'Month-to-month', 'PaperlessBilli...</td>\n",
       "    </tr>\n",
       "  </tbody>\n",
       "</table>\n",
       "</div>"
      ],
      "text/plain": [
       "   customerID Churn                                           customer  \\\n",
       "0  0002-ORFBO    No  {'gender': 'Female', 'SeniorCitizen': 0, 'Part...   \n",
       "1  0003-MKNFE    No  {'gender': 'Male', 'SeniorCitizen': 0, 'Partne...   \n",
       "2  0004-TLHLJ   Yes  {'gender': 'Male', 'SeniorCitizen': 0, 'Partne...   \n",
       "\n",
       "                                             phone  \\\n",
       "0   {'PhoneService': 'Yes', 'MultipleLines': 'No'}   \n",
       "1  {'PhoneService': 'Yes', 'MultipleLines': 'Yes'}   \n",
       "2   {'PhoneService': 'Yes', 'MultipleLines': 'No'}   \n",
       "\n",
       "                                            internet  \\\n",
       "0  {'InternetService': 'DSL', 'OnlineSecurity': '...   \n",
       "1  {'InternetService': 'DSL', 'OnlineSecurity': '...   \n",
       "2  {'InternetService': 'Fiber optic', 'OnlineSecu...   \n",
       "\n",
       "                                             account  \n",
       "0  {'Contract': 'One year', 'PaperlessBilling': '...  \n",
       "1  {'Contract': 'Month-to-month', 'PaperlessBilli...  \n",
       "2  {'Contract': 'Month-to-month', 'PaperlessBilli...  "
      ]
     },
     "execution_count": 4,
     "metadata": {},
     "output_type": "execute_result"
    }
   ],
   "source": [
    "df_raw.head(3)"
   ]
  },
  {
   "cell_type": "markdown",
   "id": "e84fadfd",
   "metadata": {},
   "source": [
    "## 2.2 Data Format and Types"
   ]
  },
  {
   "cell_type": "code",
   "execution_count": 5,
   "id": "d5d3497b",
   "metadata": {
    "ExecuteTime": {
     "end_time": "2022-05-10T15:53:09.145738Z",
     "start_time": "2022-05-10T15:53:08.843665Z"
    }
   },
   "outputs": [],
   "source": [
    "# coletando informacoes dos jsons\n",
    "columns = ['customer', 'phone', 'internet', 'account']\n",
    "for column in columns:\n",
    "    df_temp = pd.json_normalize(data=df_raw[column], sep='_')\n",
    "    df_raw = pd.concat([df_raw, df_temp], axis=1)\n",
    "\n",
    "# removendo colunas duplicadas\n",
    "df_raw = df_raw.loc[:,~df_raw.columns.duplicated()]\n",
    "\n",
    "# padronizando os headers para snake case\n",
    "cols_snake = list( map( lambda x: inflection.underscore( x ), df_raw.columns ) )\n",
    "df_raw.columns = cols_snake\n",
    "\n",
    "# removendo as colunas com os formatos json\n",
    "df_raw.drop(columns=['customer', 'phone', 'internet', 'account'],inplace=True)\n",
    "\n",
    "# transformando valores vazios e ausentes em NA\n",
    "df_raw = df_raw.mask(df_raw == ' ').mask(df_raw == '')"
   ]
  },
  {
   "cell_type": "code",
   "execution_count": 6,
   "id": "b95aef4e",
   "metadata": {
    "ExecuteTime": {
     "end_time": "2022-05-10T15:53:09.161743Z",
     "start_time": "2022-05-10T15:53:09.146739Z"
    }
   },
   "outputs": [],
   "source": [
    "# removendo 11 linhas que estão com valores vazios em charges_total para converter em float\n",
    "df_raw.dropna(subset=['charges_total'], inplace=True)\n",
    "df_raw['charges_total'] = df_raw['charges_total'].astype('float')"
   ]
  },
  {
   "cell_type": "code",
   "execution_count": 7,
   "id": "f46c455d",
   "metadata": {
    "ExecuteTime": {
     "end_time": "2022-05-10T15:53:09.193764Z",
     "start_time": "2022-05-10T15:53:09.162742Z"
    }
   },
   "outputs": [
    {
     "data": {
      "text/html": [
       "<div>\n",
       "<style scoped>\n",
       "    .dataframe tbody tr th:only-of-type {\n",
       "        vertical-align: middle;\n",
       "    }\n",
       "\n",
       "    .dataframe tbody tr th {\n",
       "        vertical-align: top;\n",
       "    }\n",
       "\n",
       "    .dataframe thead th {\n",
       "        text-align: right;\n",
       "    }\n",
       "</style>\n",
       "<table border=\"1\" class=\"dataframe\">\n",
       "  <thead>\n",
       "    <tr style=\"text-align: right;\">\n",
       "      <th></th>\n",
       "      <th>customer_id</th>\n",
       "      <th>churn</th>\n",
       "      <th>gender</th>\n",
       "      <th>senior_citizen</th>\n",
       "      <th>partner</th>\n",
       "      <th>dependents</th>\n",
       "      <th>tenure</th>\n",
       "      <th>phone_service</th>\n",
       "      <th>multiple_lines</th>\n",
       "      <th>internet_service</th>\n",
       "      <th>...</th>\n",
       "      <th>online_backup</th>\n",
       "      <th>device_protection</th>\n",
       "      <th>tech_support</th>\n",
       "      <th>streaming_tv</th>\n",
       "      <th>streaming_movies</th>\n",
       "      <th>contract</th>\n",
       "      <th>paperless_billing</th>\n",
       "      <th>payment_method</th>\n",
       "      <th>charges_monthly</th>\n",
       "      <th>charges_total</th>\n",
       "    </tr>\n",
       "  </thead>\n",
       "  <tbody>\n",
       "    <tr>\n",
       "      <th>0</th>\n",
       "      <td>0002-ORFBO</td>\n",
       "      <td>No</td>\n",
       "      <td>Female</td>\n",
       "      <td>0</td>\n",
       "      <td>Yes</td>\n",
       "      <td>Yes</td>\n",
       "      <td>9</td>\n",
       "      <td>Yes</td>\n",
       "      <td>No</td>\n",
       "      <td>DSL</td>\n",
       "      <td>...</td>\n",
       "      <td>Yes</td>\n",
       "      <td>No</td>\n",
       "      <td>Yes</td>\n",
       "      <td>Yes</td>\n",
       "      <td>No</td>\n",
       "      <td>One year</td>\n",
       "      <td>Yes</td>\n",
       "      <td>Mailed check</td>\n",
       "      <td>65.6</td>\n",
       "      <td>593.30</td>\n",
       "    </tr>\n",
       "    <tr>\n",
       "      <th>1</th>\n",
       "      <td>0003-MKNFE</td>\n",
       "      <td>No</td>\n",
       "      <td>Male</td>\n",
       "      <td>0</td>\n",
       "      <td>No</td>\n",
       "      <td>No</td>\n",
       "      <td>9</td>\n",
       "      <td>Yes</td>\n",
       "      <td>Yes</td>\n",
       "      <td>DSL</td>\n",
       "      <td>...</td>\n",
       "      <td>No</td>\n",
       "      <td>No</td>\n",
       "      <td>No</td>\n",
       "      <td>No</td>\n",
       "      <td>Yes</td>\n",
       "      <td>Month-to-month</td>\n",
       "      <td>No</td>\n",
       "      <td>Mailed check</td>\n",
       "      <td>59.9</td>\n",
       "      <td>542.40</td>\n",
       "    </tr>\n",
       "    <tr>\n",
       "      <th>2</th>\n",
       "      <td>0004-TLHLJ</td>\n",
       "      <td>Yes</td>\n",
       "      <td>Male</td>\n",
       "      <td>0</td>\n",
       "      <td>No</td>\n",
       "      <td>No</td>\n",
       "      <td>4</td>\n",
       "      <td>Yes</td>\n",
       "      <td>No</td>\n",
       "      <td>Fiber optic</td>\n",
       "      <td>...</td>\n",
       "      <td>No</td>\n",
       "      <td>Yes</td>\n",
       "      <td>No</td>\n",
       "      <td>No</td>\n",
       "      <td>No</td>\n",
       "      <td>Month-to-month</td>\n",
       "      <td>Yes</td>\n",
       "      <td>Electronic check</td>\n",
       "      <td>73.9</td>\n",
       "      <td>280.85</td>\n",
       "    </tr>\n",
       "  </tbody>\n",
       "</table>\n",
       "<p>3 rows × 21 columns</p>\n",
       "</div>"
      ],
      "text/plain": [
       "  customer_id churn  gender  senior_citizen partner dependents  tenure  \\\n",
       "0  0002-ORFBO    No  Female               0     Yes        Yes       9   \n",
       "1  0003-MKNFE    No    Male               0      No         No       9   \n",
       "2  0004-TLHLJ   Yes    Male               0      No         No       4   \n",
       "\n",
       "  phone_service multiple_lines internet_service  ... online_backup  \\\n",
       "0           Yes             No              DSL  ...           Yes   \n",
       "1           Yes            Yes              DSL  ...            No   \n",
       "2           Yes             No      Fiber optic  ...            No   \n",
       "\n",
       "  device_protection tech_support streaming_tv streaming_movies  \\\n",
       "0                No          Yes          Yes               No   \n",
       "1                No           No           No              Yes   \n",
       "2               Yes           No           No               No   \n",
       "\n",
       "         contract paperless_billing    payment_method charges_monthly  \\\n",
       "0        One year               Yes      Mailed check            65.6   \n",
       "1  Month-to-month                No      Mailed check            59.9   \n",
       "2  Month-to-month               Yes  Electronic check            73.9   \n",
       "\n",
       "   charges_total  \n",
       "0         593.30  \n",
       "1         542.40  \n",
       "2         280.85  \n",
       "\n",
       "[3 rows x 21 columns]"
      ]
     },
     "execution_count": 7,
     "metadata": {},
     "output_type": "execute_result"
    }
   ],
   "source": [
    "df_raw.head(3)"
   ]
  },
  {
   "cell_type": "code",
   "execution_count": 8,
   "id": "ab207ba8",
   "metadata": {
    "ExecuteTime": {
     "end_time": "2022-05-10T15:53:09.239788Z",
     "start_time": "2022-05-10T15:53:09.194765Z"
    }
   },
   "outputs": [
    {
     "name": "stdout",
     "output_type": "stream",
     "text": [
      "<class 'pandas.core.frame.DataFrame'>\n",
      "Int64Index: 7256 entries, 0 to 7266\n",
      "Data columns (total 21 columns):\n",
      " #   Column             Non-Null Count  Dtype  \n",
      "---  ------             --------------  -----  \n",
      " 0   customer_id        7256 non-null   object \n",
      " 1   churn              7032 non-null   object \n",
      " 2   gender             7256 non-null   object \n",
      " 3   senior_citizen     7256 non-null   int64  \n",
      " 4   partner            7256 non-null   object \n",
      " 5   dependents         7256 non-null   object \n",
      " 6   tenure             7256 non-null   int64  \n",
      " 7   phone_service      7256 non-null   object \n",
      " 8   multiple_lines     7256 non-null   object \n",
      " 9   internet_service   7256 non-null   object \n",
      " 10  online_security    7256 non-null   object \n",
      " 11  online_backup      7256 non-null   object \n",
      " 12  device_protection  7256 non-null   object \n",
      " 13  tech_support       7256 non-null   object \n",
      " 14  streaming_tv       7256 non-null   object \n",
      " 15  streaming_movies   7256 non-null   object \n",
      " 16  contract           7256 non-null   object \n",
      " 17  paperless_billing  7256 non-null   object \n",
      " 18  payment_method     7256 non-null   object \n",
      " 19  charges_monthly    7256 non-null   float64\n",
      " 20  charges_total      7256 non-null   float64\n",
      "dtypes: float64(2), int64(2), object(17)\n",
      "memory usage: 1.2+ MB\n"
     ]
    }
   ],
   "source": [
    "df_raw.info()"
   ]
  },
  {
   "cell_type": "markdown",
   "id": "1d00c7eb",
   "metadata": {},
   "source": [
    "## 2.3 NA Checking and Treatment"
   ]
  },
  {
   "cell_type": "markdown",
   "id": "baf41398",
   "metadata": {},
   "source": [
    "Agora que conseguimos ter acesso às informações dos jsons aninhados, faremos o tratamento de valores nulos/faltantes."
   ]
  },
  {
   "cell_type": "code",
   "execution_count": 9,
   "id": "dd90b92e",
   "metadata": {
    "ExecuteTime": {
     "end_time": "2022-05-10T15:53:09.269796Z",
     "start_time": "2022-05-10T15:53:09.240790Z"
    }
   },
   "outputs": [
    {
     "data": {
      "text/plain": [
       "customer_id            0\n",
       "churn                224\n",
       "gender                 0\n",
       "senior_citizen         0\n",
       "partner                0\n",
       "dependents             0\n",
       "tenure                 0\n",
       "phone_service          0\n",
       "multiple_lines         0\n",
       "internet_service       0\n",
       "online_security        0\n",
       "online_backup          0\n",
       "device_protection      0\n",
       "tech_support           0\n",
       "streaming_tv           0\n",
       "streaming_movies       0\n",
       "contract               0\n",
       "paperless_billing      0\n",
       "payment_method         0\n",
       "charges_monthly        0\n",
       "charges_total          0\n",
       "dtype: int64"
      ]
     },
     "execution_count": 9,
     "metadata": {},
     "output_type": "execute_result"
    }
   ],
   "source": [
    "df_raw.isna().sum()"
   ]
  },
  {
   "cell_type": "code",
   "execution_count": 10,
   "id": "cdf3dc8d",
   "metadata": {
    "ExecuteTime": {
     "end_time": "2022-05-10T15:53:09.317814Z",
     "start_time": "2022-05-10T15:53:09.270796Z"
    }
   },
   "outputs": [],
   "source": [
    "# deletando as linhas com valores nulos em churn. Como é nossa variável resposta, não\n",
    "# temos como inferir valores.\n",
    "df_raw.dropna(inplace=True)"
   ]
  },
  {
   "cell_type": "code",
   "execution_count": 11,
   "id": "d554cc45",
   "metadata": {
    "ExecuteTime": {
     "end_time": "2022-05-10T15:53:09.365825Z",
     "start_time": "2022-05-10T15:53:09.319815Z"
    }
   },
   "outputs": [
    {
     "data": {
      "text/plain": [
       "customer_id          0\n",
       "churn                0\n",
       "gender               0\n",
       "senior_citizen       0\n",
       "partner              0\n",
       "dependents           0\n",
       "tenure               0\n",
       "phone_service        0\n",
       "multiple_lines       0\n",
       "internet_service     0\n",
       "online_security      0\n",
       "online_backup        0\n",
       "device_protection    0\n",
       "tech_support         0\n",
       "streaming_tv         0\n",
       "streaming_movies     0\n",
       "contract             0\n",
       "paperless_billing    0\n",
       "payment_method       0\n",
       "charges_monthly      0\n",
       "charges_total        0\n",
       "dtype: int64"
      ]
     },
     "execution_count": 11,
     "metadata": {},
     "output_type": "execute_result"
    }
   ],
   "source": [
    "df_raw.isna().sum()"
   ]
  },
  {
   "cell_type": "markdown",
   "id": "8b013165",
   "metadata": {},
   "source": [
    "## 2.4 Discriptive Statistics"
   ]
  },
  {
   "cell_type": "markdown",
   "id": "15610161",
   "metadata": {},
   "source": [
    "Nesta seção faremos uma rápida análise estatística para identificar se temos valores que precisam de uma maior atenção (valores negativos, outliers, erros de digitação, etc)."
   ]
  },
  {
   "cell_type": "markdown",
   "id": "6cbee402",
   "metadata": {},
   "source": [
    "### Numerical Attributes"
   ]
  },
  {
   "cell_type": "code",
   "execution_count": 12,
   "id": "95807443",
   "metadata": {
    "ExecuteTime": {
     "end_time": "2022-05-10T15:53:09.397832Z",
     "start_time": "2022-05-10T15:53:09.366825Z"
    }
   },
   "outputs": [
    {
     "data": {
      "text/html": [
       "<div>\n",
       "<style scoped>\n",
       "    .dataframe tbody tr th:only-of-type {\n",
       "        vertical-align: middle;\n",
       "    }\n",
       "\n",
       "    .dataframe tbody tr th {\n",
       "        vertical-align: top;\n",
       "    }\n",
       "\n",
       "    .dataframe thead th {\n",
       "        text-align: right;\n",
       "    }\n",
       "</style>\n",
       "<table border=\"1\" class=\"dataframe\">\n",
       "  <thead>\n",
       "    <tr style=\"text-align: right;\">\n",
       "      <th></th>\n",
       "      <th>senior_citizen</th>\n",
       "      <th>tenure</th>\n",
       "      <th>charges_monthly</th>\n",
       "      <th>charges_total</th>\n",
       "    </tr>\n",
       "  </thead>\n",
       "  <tbody>\n",
       "    <tr>\n",
       "      <th>count</th>\n",
       "      <td>7032.00</td>\n",
       "      <td>7032.00</td>\n",
       "      <td>7032.00</td>\n",
       "      <td>7032.00</td>\n",
       "    </tr>\n",
       "    <tr>\n",
       "      <th>mean</th>\n",
       "      <td>0.16</td>\n",
       "      <td>32.42</td>\n",
       "      <td>64.80</td>\n",
       "      <td>2283.30</td>\n",
       "    </tr>\n",
       "    <tr>\n",
       "      <th>std</th>\n",
       "      <td>0.37</td>\n",
       "      <td>24.55</td>\n",
       "      <td>30.09</td>\n",
       "      <td>2266.77</td>\n",
       "    </tr>\n",
       "    <tr>\n",
       "      <th>min</th>\n",
       "      <td>0.00</td>\n",
       "      <td>1.00</td>\n",
       "      <td>18.25</td>\n",
       "      <td>18.80</td>\n",
       "    </tr>\n",
       "    <tr>\n",
       "      <th>25%</th>\n",
       "      <td>0.00</td>\n",
       "      <td>9.00</td>\n",
       "      <td>35.59</td>\n",
       "      <td>401.45</td>\n",
       "    </tr>\n",
       "    <tr>\n",
       "      <th>50%</th>\n",
       "      <td>0.00</td>\n",
       "      <td>29.00</td>\n",
       "      <td>70.35</td>\n",
       "      <td>1397.48</td>\n",
       "    </tr>\n",
       "    <tr>\n",
       "      <th>75%</th>\n",
       "      <td>0.00</td>\n",
       "      <td>55.00</td>\n",
       "      <td>89.86</td>\n",
       "      <td>3794.74</td>\n",
       "    </tr>\n",
       "    <tr>\n",
       "      <th>max</th>\n",
       "      <td>1.00</td>\n",
       "      <td>72.00</td>\n",
       "      <td>118.75</td>\n",
       "      <td>8684.80</td>\n",
       "    </tr>\n",
       "    <tr>\n",
       "      <th>skew</th>\n",
       "      <td>1.83</td>\n",
       "      <td>0.24</td>\n",
       "      <td>-0.22</td>\n",
       "      <td>0.96</td>\n",
       "    </tr>\n",
       "    <tr>\n",
       "      <th>kurtosis</th>\n",
       "      <td>1.35</td>\n",
       "      <td>-1.39</td>\n",
       "      <td>-1.26</td>\n",
       "      <td>-0.23</td>\n",
       "    </tr>\n",
       "  </tbody>\n",
       "</table>\n",
       "</div>"
      ],
      "text/plain": [
       "          senior_citizen   tenure  charges_monthly  charges_total\n",
       "count            7032.00  7032.00          7032.00        7032.00\n",
       "mean                0.16    32.42            64.80        2283.30\n",
       "std                 0.37    24.55            30.09        2266.77\n",
       "min                 0.00     1.00            18.25          18.80\n",
       "25%                 0.00     9.00            35.59         401.45\n",
       "50%                 0.00    29.00            70.35        1397.48\n",
       "75%                 0.00    55.00            89.86        3794.74\n",
       "max                 1.00    72.00           118.75        8684.80\n",
       "skew                1.83     0.24            -0.22           0.96\n",
       "kurtosis            1.35    -1.39            -1.26          -0.23"
      ]
     },
     "execution_count": 12,
     "metadata": {},
     "output_type": "execute_result"
    }
   ],
   "source": [
    "num_att = df_raw.select_dtypes(['int64', 'float64'])\n",
    "# getting skew\n",
    "skew = pd.DataFrame(num_att.apply(lambda x: x.skew())).round(2).T\n",
    "skew.rename(index={0: 'skew'}, inplace=True)\n",
    "\n",
    "# getting kurtosis\n",
    "kurtosis = pd.DataFrame(num_att.apply(lambda x: x.kurtosis())).round(2).T\n",
    "kurtosis.rename(index={0: 'kurtosis'}, inplace=True)\n",
    "\n",
    "# numerical features \n",
    "describe = df_raw.describe().round(2)\n",
    "m = pd.concat([describe, skew, kurtosis], axis=0)\n",
    "m"
   ]
  },
  {
   "cell_type": "markdown",
   "id": "75644c4d",
   "metadata": {},
   "source": [
    "### Categorical Attributes"
   ]
  },
  {
   "cell_type": "code",
   "execution_count": 13,
   "id": "6af8aecf",
   "metadata": {
    "ExecuteTime": {
     "end_time": "2022-05-10T15:53:09.429217Z",
     "start_time": "2022-05-10T15:53:09.398832Z"
    }
   },
   "outputs": [
    {
     "data": {
      "text/plain": [
       "customer_id          7032\n",
       "churn                   2\n",
       "gender                  2\n",
       "partner                 2\n",
       "dependents              2\n",
       "phone_service           2\n",
       "multiple_lines          3\n",
       "internet_service        3\n",
       "online_security         3\n",
       "online_backup           3\n",
       "device_protection       3\n",
       "tech_support            3\n",
       "streaming_tv            3\n",
       "streaming_movies        3\n",
       "contract                3\n",
       "paperless_billing       2\n",
       "payment_method          4\n",
       "dtype: int64"
      ]
     },
     "execution_count": 13,
     "metadata": {},
     "output_type": "execute_result"
    }
   ],
   "source": [
    "cat_att = df_raw.select_dtypes(exclude=['int64', 'float64'])\n",
    "cat_att.apply( lambda x: x.unique().shape[0] )"
   ]
  },
  {
   "cell_type": "code",
   "execution_count": 16,
   "id": "c6b6c82d",
   "metadata": {
    "ExecuteTime": {
     "end_time": "2022-05-10T15:53:25.755076Z",
     "start_time": "2022-05-10T15:53:25.727079Z"
    }
   },
   "outputs": [
    {
     "name": "stdout",
     "output_type": "stream",
     "text": [
      "['0002-ORFBO' '0003-MKNFE' '0004-TLHLJ' ... '9992-UJOEL' '9993-LHIEB'\n",
      " '9995-HOTOH']\n",
      "['No' 'Yes']\n",
      "['Female' 'Male']\n",
      "[0 1]\n",
      "['Yes' 'No']\n",
      "['Yes' 'No']\n",
      "[ 9  4 13  3 71 63  7 65 54 72  5 56 34  1 45 50 23 55 26 69 37 49 66 67\n",
      " 20 43 59 12 27  2 25 29 14 35 64 39 40 11  6 30 70 57 58 16 32 33 10 21\n",
      " 61 15 44 22 24 19 47 62 46 52  8 60 48 28 41 53 68 31 36 17 18 51 38 42]\n",
      "['Yes' 'No']\n",
      "['No' 'Yes' 'No phone service']\n",
      "['DSL' 'Fiber optic' 'No']\n",
      "['No' 'Yes' 'No internet service']\n",
      "['Yes' 'No' 'No internet service']\n",
      "['No' 'Yes' 'No internet service']\n",
      "['Yes' 'No' 'No internet service']\n",
      "['Yes' 'No' 'No internet service']\n",
      "['No' 'Yes' 'No internet service']\n",
      "['One year' 'Month-to-month' 'Two year']\n",
      "['Yes' 'No']\n",
      "['Mailed check' 'Electronic check' 'Credit card (automatic)'\n",
      " 'Bank transfer (automatic)']\n",
      "[65.6  59.9  73.9  ... 91.75 68.8  67.85]\n",
      "[ 593.3   542.4   280.85 ...  742.9  4627.65 3707.6 ]\n"
     ]
    }
   ],
   "source": [
    "for column in df_raw.columns:\n",
    "    print(df_raw[column].unique())"
   ]
  },
  {
   "cell_type": "markdown",
   "id": "35023ff6",
   "metadata": {},
   "source": [
    "Para as features numéricas, não identificamos valores discrepantes ou possivelmente errados. Porém, para as features categóricas, observamos que algumas features apresentam valores redundantes ('No' e 'No xxxx service'). Para esse primeiro ciclo CRISP-DM/DS, iremos considerar que esses dois valores transmitem a mesma informação e iremos padronizá-los na seção 5."
   ]
  },
  {
   "cell_type": "markdown",
   "id": "33e0ce91",
   "metadata": {},
   "source": [
    "# 3 DATAFRAME FILTERING"
   ]
  },
  {
   "cell_type": "markdown",
   "id": "2f47ec1a",
   "metadata": {},
   "source": [
    "## 3.1 Line Filtering"
   ]
  },
  {
   "cell_type": "markdown",
   "id": "bcb9bf3a",
   "metadata": {},
   "source": [
    "## 3.2 Column Selection"
   ]
  },
  {
   "cell_type": "markdown",
   "id": "b3f52519",
   "metadata": {},
   "source": [
    "# 4 QUESTIONS & HYPOTHESIS"
   ]
  },
  {
   "cell_type": "markdown",
   "id": "b3c0cb6f",
   "metadata": {},
   "source": [
    "# 5 FEATURE ENGINEERING"
   ]
  },
  {
   "cell_type": "code",
   "execution_count": 75,
   "id": "02b5e505",
   "metadata": {
    "ExecuteTime": {
     "end_time": "2022-05-10T14:24:28.832556Z",
     "start_time": "2022-05-10T14:24:28.813547Z"
    }
   },
   "outputs": [],
   "source": [
    "# ------- CONFERIR A EFETIVIDADE DESSA MODIFICAÇÃO NOS PRÓXIMOS CICLOS --------\n",
    "# transformando os valores \"no xxxx service em no\"\n",
    "for column in df_raw.columns[8:16]:\n",
    "    df_raw.loc[:,column] = df_raw[column].apply(lambda x: 'No' if 'No' in x else x)\n",
    "# -----------------------------------------------------------------------------\n",
    "\n",
    "# criando feature de gasto diário partindo do charges_total\n",
    "df_raw.insert(loc=18, column='daily_charge', value=df_raw['charges_total']/(df_raw['tenure']*30))"
   ]
  },
  {
   "cell_type": "markdown",
   "id": "bdbe9b4d",
   "metadata": {},
   "source": [
    "# 6 EXPLORATORY DATA ANALYSIS"
   ]
  },
  {
   "cell_type": "markdown",
   "id": "b50f0d3d",
   "metadata": {},
   "source": [
    "## 6.1 Univariate Analysis"
   ]
  },
  {
   "cell_type": "markdown",
   "id": "e94541d3",
   "metadata": {},
   "source": [
    "### 6.1.1 Response Variable"
   ]
  },
  {
   "cell_type": "markdown",
   "id": "383267db",
   "metadata": {},
   "source": [
    "### 6.1.2 Numerical Variable"
   ]
  },
  {
   "cell_type": "markdown",
   "id": "73766ea9",
   "metadata": {},
   "source": [
    "### 6.1.3 Categorical Variable"
   ]
  },
  {
   "cell_type": "markdown",
   "id": "1475e1c3",
   "metadata": {},
   "source": [
    "## 6.2 Bivariate Analysis"
   ]
  },
  {
   "cell_type": "markdown",
   "id": "7bbdd7a8",
   "metadata": {},
   "source": [
    "## 6.3 Multivariate Analysis\n"
   ]
  },
  {
   "cell_type": "markdown",
   "id": "000a49cf",
   "metadata": {},
   "source": [
    "### 6.3.1 Numerical Attributes"
   ]
  },
  {
   "cell_type": "markdown",
   "id": "edeee66f",
   "metadata": {},
   "source": [
    "### 6.3.2 Categorical Attributes"
   ]
  },
  {
   "cell_type": "markdown",
   "id": "00f01887",
   "metadata": {},
   "source": [
    "# 7 DATA PREPARATION"
   ]
  },
  {
   "cell_type": "markdown",
   "id": "cecfe9f2",
   "metadata": {},
   "source": [
    "## 7.2 Normalization"
   ]
  },
  {
   "cell_type": "markdown",
   "id": "7923c39f",
   "metadata": {},
   "source": [
    "## 7.3 Rescaling"
   ]
  },
  {
   "cell_type": "markdown",
   "id": "9b194dbf",
   "metadata": {},
   "source": [
    "## 7.4 Transformation"
   ]
  },
  {
   "cell_type": "markdown",
   "id": "96b081b3",
   "metadata": {},
   "source": [
    "### 7.4.1 Encoding"
   ]
  },
  {
   "cell_type": "markdown",
   "id": "c3a14179",
   "metadata": {},
   "source": [
    "# 8 FEATURE SELECTION"
   ]
  },
  {
   "cell_type": "markdown",
   "id": "e77cf1a2",
   "metadata": {},
   "source": [
    "## 8.1 Split dataframe into training and validation dataset"
   ]
  },
  {
   "cell_type": "markdown",
   "id": "06f08754",
   "metadata": {},
   "source": [
    "## 8.3 Selected Features"
   ]
  },
  {
   "cell_type": "markdown",
   "id": "15575408",
   "metadata": {},
   "source": [
    "# 9 MACHINE LEARNING MODELLING"
   ]
  },
  {
   "cell_type": "markdown",
   "id": "c85a927e",
   "metadata": {},
   "source": [
    "# 10 CROSS-VALIDATION"
   ]
  },
  {
   "cell_type": "markdown",
   "id": "fbdc1432",
   "metadata": {},
   "source": [
    "# 11 HYPERPARAMETER FINE TUNNING"
   ]
  },
  {
   "cell_type": "markdown",
   "id": "b4b8ab38",
   "metadata": {},
   "source": [
    "## 11.1 Random Search"
   ]
  },
  {
   "cell_type": "markdown",
   "id": "8e2cdfbb",
   "metadata": {},
   "source": [
    "## 11.2 Final Model"
   ]
  },
  {
   "cell_type": "markdown",
   "id": "5be8b1e2",
   "metadata": {},
   "source": [
    "# 12 BUSINESS PERFORMANCE"
   ]
  },
  {
   "cell_type": "markdown",
   "id": "232c7d96",
   "metadata": {},
   "source": [
    "# 13 NEXT STEPS"
   ]
  }
 ],
 "metadata": {
  "kernelspec": {
   "display_name": "Python 3 (ipykernel)",
   "language": "python",
   "name": "python3"
  },
  "language_info": {
   "codemirror_mode": {
    "name": "ipython",
    "version": 3
   },
   "file_extension": ".py",
   "mimetype": "text/x-python",
   "name": "python",
   "nbconvert_exporter": "python",
   "pygments_lexer": "ipython3",
   "version": "3.8.11"
  },
  "toc": {
   "base_numbering": 1,
   "nav_menu": {},
   "number_sections": true,
   "sideBar": true,
   "skip_h1_title": false,
   "title_cell": "Table of Contents",
   "title_sidebar": "Contents",
   "toc_cell": false,
   "toc_position": {
    "height": "calc(100% - 180px)",
    "left": "10px",
    "top": "150px",
    "width": "306px"
   },
   "toc_section_display": true,
   "toc_window_display": false
  },
  "varInspector": {
   "cols": {
    "lenName": 16,
    "lenType": 16,
    "lenVar": 40
   },
   "kernels_config": {
    "python": {
     "delete_cmd_postfix": "",
     "delete_cmd_prefix": "del ",
     "library": "var_list.py",
     "varRefreshCmd": "print(var_dic_list())"
    },
    "r": {
     "delete_cmd_postfix": ") ",
     "delete_cmd_prefix": "rm(",
     "library": "var_list.r",
     "varRefreshCmd": "cat(var_dic_list()) "
    }
   },
   "position": {
    "height": "298.844px",
    "left": "1384px",
    "right": "20px",
    "top": "121px",
    "width": "504px"
   },
   "types_to_exclude": [
    "module",
    "function",
    "builtin_function_or_method",
    "instance",
    "_Feature"
   ],
   "window_display": false
  }
 },
 "nbformat": 4,
 "nbformat_minor": 5
}
